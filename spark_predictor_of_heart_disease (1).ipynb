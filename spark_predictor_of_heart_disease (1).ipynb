{
  "metadata": {
    "kernelspec": {
      "name": "python3",
      "display_name": "Python 3",
      "language": "python"
    },
    "language_info": {
      "name": "python",
      "version": "3.10.12",
      "mimetype": "text/x-python",
      "codemirror_mode": {
        "name": "ipython",
        "version": 3
      },
      "pygments_lexer": "ipython3",
      "nbconvert_exporter": "python",
      "file_extension": ".py"
    },
    "colab": {
      "provenance": []
    },
    "kaggle": {
      "accelerator": "none",
      "dataSources": [
        {
          "sourceId": 96766,
          "databundleVersionId": 11566793,
          "sourceType": "competition"
        },
        {
          "sourceId": 11189828,
          "sourceType": "datasetVersion",
          "datasetId": 6985546
        }
      ],
      "dockerImageVersionId": 30918,
      "isInternetEnabled": true,
      "language": "python",
      "sourceType": "notebook",
      "isGpuEnabled": false
    }
  },
  "nbformat_minor": 0,
  "nbformat": 4,
  "cells": [
    {
      "cell_type": "markdown",
      "source": [
        "#  Building a good performing ML model for Heart Disease Prediction\n",
        "\n",
        "In this notebook, we aim to build a predictive model for heart disease using clinical and demographic data. The goal is to identify the best performing model, using rigorous exploratory data analysis (EDA) and robust evaluation metrics. We will discuss our approach, methodology, and final results."
      ],
      "metadata": {
        "id": "QsGBgGhvKXWe"
      }
    },
    {
      "cell_type": "markdown",
      "source": [
        "# Problem Statement\n",
        "\n",
        "The task is to predict the presence (1) or absence (0) of cardiovascular disease based on a dataset containing clinical and demographic features.\n",
        "Our objectives include preprocessing and exploring the data to understand its structure, class distribution, and potential issues. Then we\n"
      ],
      "metadata": {
        "id": "Yb69uMsd6xgD"
      }
    },
    {
      "cell_type": "markdown",
      "source": [
        "# Exploratory Data Analysis (EDA)\n",
        "In this section, we load the dataset from Google Drive.\n",
        "Examine the first few rows and overall structure.\n",
        "Check for missing values, outliers, and class imbalances."
      ],
      "metadata": {
        "id": "um1U6r48KyJs"
      }
    },
    {
      "cell_type": "code",
      "source": [
        "import pandas as pd\n",
        "import numpy as np\n",
        "import matplotlib.pyplot as plt\n",
        "import seaborn as sns\n",
        "from sklearn.model_selection import GridSearchCV\n",
        "from sklearn.preprocessing import StandardScaler\n",
        "from sklearn.ensemble import RandomForestClassifier\n",
        "from sklearn.metrics import f1_score, accuracy_score, confusion_matrix, classification_report, roc_auc_score, roc_curve\n",
        "import os"
      ],
      "metadata": {
        "id": "pjTkQkskSVOd",
        "trusted": true,
        "execution": {
          "iopub.status.busy": "2025-03-27T21:48:07.535020Z",
          "iopub.execute_input": "2025-03-27T21:48:07.535377Z",
          "iopub.status.idle": "2025-03-27T21:48:07.540449Z",
          "shell.execute_reply.started": "2025-03-27T21:48:07.535351Z",
          "shell.execute_reply": "2025-03-27T21:48:07.539337Z"
        }
      },
      "outputs": [],
      "execution_count": 2
    },
    {
      "cell_type": "code",
      "source": [
        "from google.colab import drive\n",
        "drive.mount('/content/drive')\n"
      ],
      "metadata": {
        "colab": {
          "base_uri": "https://localhost:8080/"
        },
        "id": "mMVBNHpXx9f1",
        "outputId": "4f2115ab-b18c-40f3-a528-d516263472fc"
      },
      "execution_count": 5,
      "outputs": [
        {
          "output_type": "stream",
          "name": "stdout",
          "text": [
            "Mounted at /content/drive\n"
          ]
        }
      ]
    },
    {
      "cell_type": "code",
      "source": [
        "# Load and inspect train and test datasets\n",
        "import pandas as pd\n",
        "train_data = pd.read_csv('/content/drive/MyDrive/train.csv')\n",
        "test_data = pd.read_csv('/content/drive/MyDrive/test.csv')\n",
        "sample_submission = pd.read_csv('/content/drive/MyDrive/sample.csv')\n"
      ],
      "metadata": {
        "trusted": true,
        "execution": {
          "iopub.status.busy": "2025-03-27T21:37:58.395164Z",
          "iopub.execute_input": "2025-03-27T21:37:58.395495Z",
          "iopub.status.idle": "2025-03-27T21:37:58.479372Z",
          "shell.execute_reply.started": "2025-03-27T21:37:58.395469Z",
          "shell.execute_reply": "2025-03-27T21:37:58.478167Z"
        },
        "id": "_r8wmkc8v6qr"
      },
      "outputs": [],
      "execution_count": 7
    },
    {
      "cell_type": "code",
      "source": [
        "print(train_data.head())\n",
        "print(train_data.info())"
      ],
      "metadata": {
        "id": "aaILp_ENVrsH",
        "trusted": true,
        "execution": {
          "iopub.status.busy": "2025-03-27T21:50:32.574224Z",
          "iopub.execute_input": "2025-03-27T21:50:32.574584Z",
          "iopub.status.idle": "2025-03-27T21:50:32.670735Z",
          "shell.execute_reply.started": "2025-03-27T21:50:32.574557Z",
          "shell.execute_reply": "2025-03-27T21:50:32.669601Z"
        },
        "colab": {
          "base_uri": "https://localhost:8080/"
        },
        "outputId": "9e57a78b-80d1-4cd8-fdf7-5398a1578eab"
      },
      "outputs": [
        {
          "output_type": "stream",
          "name": "stdout",
          "text": [
            "      id    age  gender  height  weight  ap_hi  ap_lo  cholesterol  gluc  \\\n",
            "0  83327  18995       2     162    83.0    120     80            1     1   \n",
            "1  86196  17319       1     158    64.0    120     80            1     1   \n",
            "2  59158  19017       1     165    95.0    160    100            2     1   \n",
            "3  16399  20388       1     164    83.0    150    100            1     1   \n",
            "4  29470  18236       1     156    52.0    100     67            1     1   \n",
            "\n",
            "   smoke  alco  active  cardio  \n",
            "0      0     0       0       1  \n",
            "1      0     0       1       0  \n",
            "2      0     0       1       1  \n",
            "3      0     0       1       1  \n",
            "4      0     0       0       0  \n",
            "<class 'pandas.core.frame.DataFrame'>\n",
            "RangeIndex: 56000 entries, 0 to 55999\n",
            "Data columns (total 13 columns):\n",
            " #   Column       Non-Null Count  Dtype  \n",
            "---  ------       --------------  -----  \n",
            " 0   id           56000 non-null  int64  \n",
            " 1   age          56000 non-null  int64  \n",
            " 2   gender       56000 non-null  int64  \n",
            " 3   height       56000 non-null  int64  \n",
            " 4   weight       56000 non-null  float64\n",
            " 5   ap_hi        56000 non-null  int64  \n",
            " 6   ap_lo        56000 non-null  int64  \n",
            " 7   cholesterol  56000 non-null  int64  \n",
            " 8   gluc         56000 non-null  int64  \n",
            " 9   smoke        56000 non-null  int64  \n",
            " 10  alco         56000 non-null  int64  \n",
            " 11  active       56000 non-null  int64  \n",
            " 12  cardio       56000 non-null  int64  \n",
            "dtypes: float64(1), int64(12)\n",
            "memory usage: 5.6 MB\n",
            "None\n"
          ]
        }
      ],
      "execution_count": 8
    },
    {
      "cell_type": "code",
      "source": [
        "print(test_data.head())\n",
        "print(test_data.info())"
      ],
      "metadata": {
        "trusted": true,
        "execution": {
          "iopub.status.busy": "2025-03-27T21:52:30.343543Z",
          "iopub.execute_input": "2025-03-27T21:52:30.343984Z",
          "iopub.status.idle": "2025-03-27T21:52:30.375057Z",
          "shell.execute_reply.started": "2025-03-27T21:52:30.343954Z",
          "shell.execute_reply": "2025-03-27T21:52:30.373896Z"
        },
        "colab": {
          "base_uri": "https://localhost:8080/"
        },
        "id": "Z4CEwor3v6qt",
        "outputId": "d941e5e8-9d44-4755-9e56-0a1b167c8256"
      },
      "outputs": [
        {
          "output_type": "stream",
          "name": "stdout",
          "text": [
            "      id    age  gender  height  weight  ap_hi  ap_lo  cholesterol  gluc  \\\n",
            "0  26681  19386       1     155    59.5    120     85            1     1   \n",
            "1  58585  21081       1     160    59.0    130     90            1     1   \n",
            "2  54339  15129       2     175    88.0    120     80            2     1   \n",
            "3  17273  18785       2     177    62.0    120     90            1     1   \n",
            "4  25420  18171       1     167    81.0    120     80            1     1   \n",
            "\n",
            "   smoke  alco  active  \n",
            "0      0     0       1  \n",
            "1      0     0       1  \n",
            "2      0     0       1  \n",
            "3      0     0       1  \n",
            "4      0     0       1  \n",
            "<class 'pandas.core.frame.DataFrame'>\n",
            "RangeIndex: 14000 entries, 0 to 13999\n",
            "Data columns (total 12 columns):\n",
            " #   Column       Non-Null Count  Dtype  \n",
            "---  ------       --------------  -----  \n",
            " 0   id           14000 non-null  int64  \n",
            " 1   age          14000 non-null  int64  \n",
            " 2   gender       14000 non-null  int64  \n",
            " 3   height       14000 non-null  int64  \n",
            " 4   weight       14000 non-null  float64\n",
            " 5   ap_hi        14000 non-null  int64  \n",
            " 6   ap_lo        14000 non-null  int64  \n",
            " 7   cholesterol  14000 non-null  int64  \n",
            " 8   gluc         14000 non-null  int64  \n",
            " 9   smoke        14000 non-null  int64  \n",
            " 10  alco         14000 non-null  int64  \n",
            " 11  active       14000 non-null  int64  \n",
            "dtypes: float64(1), int64(11)\n",
            "memory usage: 1.3 MB\n",
            "None\n"
          ]
        }
      ],
      "execution_count": 9
    },
    {
      "cell_type": "code",
      "source": [
        "print(sample_submission.head())\n",
        "print(sample_submission.info())"
      ],
      "metadata": {
        "trusted": true,
        "execution": {
          "iopub.status.busy": "2025-03-27T22:16:32.481316Z",
          "iopub.execute_input": "2025-03-27T22:16:32.481963Z",
          "iopub.status.idle": "2025-03-27T22:16:32.503577Z",
          "shell.execute_reply.started": "2025-03-27T22:16:32.481903Z",
          "shell.execute_reply": "2025-03-27T22:16:32.502339Z"
        },
        "colab": {
          "base_uri": "https://localhost:8080/"
        },
        "id": "GdXQqAmrv6qu",
        "outputId": "284ac0fe-ee2d-4612-81bf-f13bfefa698c"
      },
      "outputs": [
        {
          "output_type": "stream",
          "name": "stdout",
          "text": [
            "     id  cardio\n",
            "0  3001       0\n",
            "1  3002       0\n",
            "2  3003       0\n",
            "3  3004       0\n",
            "4  3005       0\n",
            "<class 'pandas.core.frame.DataFrame'>\n",
            "RangeIndex: 21 entries, 0 to 20\n",
            "Data columns (total 2 columns):\n",
            " #   Column  Non-Null Count  Dtype\n",
            "---  ------  --------------  -----\n",
            " 0   id      21 non-null     int64\n",
            " 1   cardio  21 non-null     int64\n",
            "dtypes: int64(2)\n",
            "memory usage: 468.0 bytes\n",
            "None\n"
          ]
        }
      ],
      "execution_count": 10
    },
    {
      "cell_type": "code",
      "source": [],
      "metadata": {
        "trusted": true,
        "execution": {
          "iopub.status.busy": "2025-03-27T22:19:18.749464Z",
          "iopub.execute_input": "2025-03-27T22:19:18.749856Z",
          "iopub.status.idle": "2025-03-27T22:19:18.831576Z",
          "shell.execute_reply.started": "2025-03-27T22:19:18.749828Z",
          "shell.execute_reply": "2025-03-27T22:19:18.830489Z"
        },
        "id": "ChXN_IG4v6qv"
      },
      "outputs": [],
      "execution_count": 10
    },
    {
      "cell_type": "code",
      "source": [
        "X_train = train_data.drop(['id', 'cardio'], axis=1)\n",
        "y_train = train_data['cardio']\n",
        "\n",
        "X_test = test_data.drop(['id'], axis=1)"
      ],
      "metadata": {
        "trusted": true,
        "execution": {
          "iopub.status.busy": "2025-03-27T21:54:33.412261Z",
          "iopub.execute_input": "2025-03-27T21:54:33.412644Z",
          "iopub.status.idle": "2025-03-27T21:54:33.420269Z",
          "shell.execute_reply.started": "2025-03-27T21:54:33.412599Z",
          "shell.execute_reply": "2025-03-27T21:54:33.419219Z"
        },
        "id": "GrF2arKzv6qv"
      },
      "outputs": [],
      "execution_count": 11
    },
    {
      "cell_type": "code",
      "source": [
        "# Data Preprocessing\n",
        "scaler = StandardScaler()\n",
        "X_train_scaled = scaler.fit_transform(X_train)\n",
        "X_test_scaled = scaler.transform(X_test)  # Scale the test data using the same scaler\n",
        "\n",
        "# Model Training with GridSearchCV\n",
        "rf_model = RandomForestClassifier(random_state=42)\n",
        "param_grid = {\n",
        "    'n_estimators': [100, 200],\n",
        "    'max_depth': [None, 10, 20],\n",
        "    'min_samples_split': [2, 5]\n",
        "}"
      ],
      "metadata": {
        "id": "t4e4Jt2QV9qI",
        "trusted": true,
        "execution": {
          "iopub.status.busy": "2025-03-27T21:56:04.483676Z",
          "iopub.execute_input": "2025-03-27T21:56:04.484079Z",
          "iopub.status.idle": "2025-03-27T21:56:04.508829Z",
          "shell.execute_reply.started": "2025-03-27T21:56:04.484049Z",
          "shell.execute_reply": "2025-03-27T21:56:04.507831Z"
        }
      },
      "outputs": [],
      "execution_count": 12
    },
    {
      "cell_type": "code",
      "source": [
        "grid_search = GridSearchCV(\n",
        "    estimator=rf_model,\n",
        "    param_grid=param_grid,\n",
        "    scoring='f1',\n",
        "    cv=5,\n",
        "    n_jobs=-1\n",
        ")\n",
        "grid_search.fit(X_train_scaled, y_train)\n",
        "print(\"Best parameters:\", grid_search.best_params_)"
      ],
      "metadata": {
        "id": "nFMnOZ-7WLRJ",
        "trusted": true,
        "execution": {
          "iopub.status.busy": "2025-03-27T21:56:07.359162Z",
          "iopub.execute_input": "2025-03-27T21:56:07.359519Z",
          "iopub.status.idle": "2025-03-27T21:59:25.128924Z",
          "shell.execute_reply.started": "2025-03-27T21:56:07.359492Z",
          "shell.execute_reply": "2025-03-27T21:59:25.127436Z"
        },
        "colab": {
          "base_uri": "https://localhost:8080/"
        },
        "outputId": "dbfd33cd-7f82-4073-abc4-838524d4855b"
      },
      "outputs": [
        {
          "output_type": "stream",
          "name": "stdout",
          "text": [
            "Best parameters: {'max_depth': 20, 'min_samples_split': 5, 'n_estimators': 100}\n"
          ]
        }
      ],
      "execution_count": 13
    },
    {
      "cell_type": "code",
      "source": [
        "# prompt: evaluate model with f1 score on test data, but y_test is undefined so you need to generate another test data  from sample data and use it\n",
        "\n",
        "# Generate synthetic test data (replace with your actual test data if available)\n",
        "from sklearn.model_selection import train_test_split\n",
        "X_train_sampled, X_test_sampled, y_train_sampled, y_test_sampled = train_test_split(\n",
        "    X_train_scaled, y_train, test_size=0.2, random_state=42\n",
        ")\n",
        "\n",
        "# Use the best model from grid search\n",
        "best_rf_model = grid_search.best_estimator_\n",
        "\n",
        "# Make predictions on the sampled test data\n",
        "y_pred_sampled = best_rf_model.predict(X_test_sampled)\n",
        "\n",
        "# Evaluate the model using f1_score\n",
        "f1 = f1_score(y_test_sampled, y_pred_sampled)\n",
        "print(f\"F1 Score on Sampled Test Data: {f1}\")\n"
      ],
      "metadata": {
        "trusted": true,
        "execution": {
          "iopub.status.busy": "2025-03-27T22:27:29.474834Z",
          "iopub.execute_input": "2025-03-27T22:27:29.475214Z",
          "iopub.status.idle": "2025-03-27T22:27:29.838761Z",
          "shell.execute_reply.started": "2025-03-27T22:27:29.475182Z",
          "shell.execute_reply": "2025-03-27T22:27:29.837155Z"
        },
        "colab": {
          "base_uri": "https://localhost:8080/"
        },
        "id": "NneqrAE_v6qx",
        "outputId": "647d332c-8c91-4ded-8378-b5fb7976c6ed"
      },
      "outputs": [
        {
          "output_type": "stream",
          "name": "stdout",
          "text": [
            "F1 Score on Sampled Test Data: 0.852606015318513\n"
          ]
        }
      ],
      "execution_count": 17
    },
    {
      "cell_type": "code",
      "source": [
        "# Model Prediction on Test Data\n",
        "best_model = grid_search.best_estimator_\n",
        "y_test_pred = best_model.predict(X_test_scaled)\n",
        "\n",
        "# Save the predictions\n",
        "predictions = pd.DataFrame({'id': test_data['id'], 'cardio': y_test_pred})\n",
        "predictions.to_csv('heart_disease_predictions.csv', index=False)\n",
        "\n",
        "print(\"Predictions saved to 'heart_disease_predictions.csv'\")"
      ],
      "metadata": {
        "trusted": true,
        "execution": {
          "iopub.status.busy": "2025-03-27T22:00:06.580439Z",
          "iopub.execute_input": "2025-03-27T22:00:06.580851Z",
          "iopub.status.idle": "2025-03-27T22:00:06.953393Z",
          "shell.execute_reply.started": "2025-03-27T22:00:06.580820Z",
          "shell.execute_reply": "2025-03-27T22:00:06.952258Z"
        },
        "colab": {
          "base_uri": "https://localhost:8080/"
        },
        "id": "0r3fXy1vv6qy",
        "outputId": "6565bf4f-c5a1-4d17-d82b-1311d157e344"
      },
      "outputs": [
        {
          "output_type": "stream",
          "name": "stdout",
          "text": [
            "Predictions saved to 'heart_disease_predictions.csv'\n"
          ]
        }
      ],
      "execution_count": 18
    },
    {
      "cell_type": "code",
      "source": [
        "# prompt: arrange the id column of the heart_disease_predictions.csv in order and save it again\n",
        "\n",
        "import pandas as pd\n",
        "\n",
        "# Load the predictions\n",
        "predictions = pd.read_csv('heart_disease_predictions.csv')\n",
        "\n",
        "# Sort by 'id'\n",
        "predictions_sorted = predictions.sort_values('id')\n",
        "\n",
        "# Save the sorted predictions\n",
        "predictions_sorted.to_csv('heart_disease_predictions.csv', index=False)\n"
      ],
      "metadata": {
        "id": "868nAZy52T04"
      },
      "execution_count": 20,
      "outputs": []
    },
    {
      "cell_type": "code",
      "source": [
        "# Model Evaluation on Training data\n",
        "best_model = grid_search.best_estimator_\n",
        "y_train_pred = best_model.predict(X_train_scaled)\n",
        "train_f1 = f1_score(y_train, y_train_pred)\n",
        "print(\"Training F1 Score:\", train_f1)"
      ],
      "metadata": {
        "id": "dgwxC_9WWSUg",
        "trusted": true,
        "execution": {
          "iopub.status.busy": "2025-03-27T22:04:59.422259Z",
          "iopub.execute_input": "2025-03-27T22:04:59.422650Z",
          "iopub.status.idle": "2025-03-27T22:05:00.720081Z",
          "shell.execute_reply.started": "2025-03-27T22:04:59.422606Z",
          "shell.execute_reply": "2025-03-27T22:05:00.718844Z"
        },
        "colab": {
          "base_uri": "https://localhost:8080/"
        },
        "outputId": "ca7cc2c7-d599-482d-89f6-1e4e84ac6570"
      },
      "outputs": [
        {
          "output_type": "stream",
          "name": "stdout",
          "text": [
            "Training F1 Score: 0.8580901115684777\n"
          ]
        }
      ],
      "execution_count": 19
    },
    {
      "cell_type": "code",
      "source": [
        "import pandas as pd\n",
        "\n",
        "try:\n",
        "    predictions = pd.read_csv('heart_disease_predictions.csv')\n",
        "\n",
        "    # Check if the 'id' column exists\n",
        "    if 'id' not in predictions.columns:\n",
        "        raise ValueError(\"The 'id' column is missing from the predictions file.\")\n",
        "\n",
        "    # Check if all 'cardio' values are either 0 or 1\n",
        "    if not all(x in [0, 1] for x in predictions['cardio']):\n",
        "        raise ValueError(\"The 'cardio' column contains values other than 0 or 1.\")\n",
        "\n",
        "    print(\"Predictions file is valid.\")\n",
        "\n",
        "except FileNotFoundError:\n",
        "    print(\"Error: 'heart_disease_predictions.csv' not found.\")\n",
        "except ValueError as e:\n",
        "    print(f\"Error: {e}\")\n",
        "except Exception as e:\n",
        "    print(f\"An unexpected error occurred: {e}\")\n"
      ],
      "metadata": {
        "colab": {
          "base_uri": "https://localhost:8080/"
        },
        "id": "-AQ2zwyO3Mds",
        "outputId": "ccfc5556-fbc2-4191-b880-b8dcdb2d5485"
      },
      "execution_count": 21,
      "outputs": [
        {
          "output_type": "stream",
          "name": "stdout",
          "text": [
            "Predictions file is valid.\n"
          ]
        }
      ]
    }
  ]
}